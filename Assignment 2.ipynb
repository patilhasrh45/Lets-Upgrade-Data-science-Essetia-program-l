{
 "cells": [
  {
   "cell_type": "markdown",
   "metadata": {},
   "source": [
    "# Q1"
   ]
  },
  {
   "cell_type": "code",
   "execution_count": 16,
   "metadata": {},
   "outputs": [
    {
     "name": "stdout",
     "output_type": "stream",
     "text": [
      "Ouput: 0\n",
      "Ouput: 2\n",
      "Ouput: 4\n",
      "Ouput: 6\n",
      "Ouput: 8\n"
     ]
    }
   ],
   "source": [
    "list= []\n",
    "for i in range(10):\n",
    "    if i % 2==0:\n",
    "        list.append(i)\n",
    "        print(\"Ouput:\",i)"
   ]
  },
  {
   "cell_type": "markdown",
   "metadata": {},
   "source": [
    "# Q.2"
   ]
  },
  {
   "cell_type": "code",
   "execution_count": 17,
   "metadata": {},
   "outputs": [
    {
     "name": "stdout",
     "output_type": "stream",
     "text": [
      "[6, 8, 12, 2]\n",
      "comprehesion:\n",
      " [6, 8, 12, 2]\n"
     ]
    }
   ],
   "source": [
    "cart = [3.5,6,7,3,8,12,43,2]\n",
    "# Only give cashier_3 even numbers\n",
    "cashier_3 = []\n",
    "for item in cart:\n",
    "    if item % 2 == 0:\n",
    "        cashier_3.append(item)\n",
    "print(cashier_3)\n",
    "#list comprehension\n",
    "cashier_3 = [item for item in cart if item % 2 == 0]\n",
    "print(\"comprehesion:\\n\",cashier_3)"
   ]
  },
  {
   "cell_type": "markdown",
   "metadata": {},
   "source": [
    "# Q.3"
   ]
  },
  {
   "cell_type": "code",
   "execution_count": 18,
   "metadata": {},
   "outputs": [
    {
     "name": "stdout",
     "output_type": "stream",
     "text": [
      "enter the no:4\n",
      "Ouput:\n",
      " {1: 1, 2: 4, 3: 9, 4: 16}\n"
     ]
    }
   ],
   "source": [
    "n = int(input(\"enter the no:\"))\n",
    "d = dict()\n",
    "for i in range(1, n+1):\n",
    "    d[i] = i*i\n",
    "print(\"Ouput:\\n\",d)"
   ]
  },
  {
   "cell_type": "markdown",
   "metadata": {},
   "source": [
    "# Q.4"
   ]
  },
  {
   "cell_type": "code",
   "execution_count": 19,
   "metadata": {},
   "outputs": [
    {
     "name": "stdout",
     "output_type": "stream",
     "text": [
      "4\n",
      "5\n",
      "3\n",
      "3\n",
      "2\n",
      "0\n"
     ]
    }
   ],
   "source": [
    "pos = {\"x\":0,\"y\":0}\n",
    "num = int(input())\n",
    "\n",
    "for i in range (num):\n",
    "    command =  input().split(\" \")      \n",
    "    if command[0] == \"UP\":             \n",
    "        pos[\"y\"] += int(command[1])    \n",
    "    if command[0] == \"DOWN\":\n",
    "        pos[\"y\"] -= int(command[1])\n",
    "    if command[0] == \"LEFT\":\n",
    "        pos[\"x\"] -= int(command[1])\n",
    "    if command[0] == \"RIGHT\":\n",
    "        pos[\"x\"] += int(command[1])\n",
    "\n",
    "print(int(round((pos[\"x\"]**2 + pos[\"y\"]**2)**0.5)))   \n"
   ]
  }
 ],
 "metadata": {
  "kernelspec": {
   "display_name": "Python 3",
   "language": "python",
   "name": "python3"
  },
  "language_info": {
   "codemirror_mode": {
    "name": "ipython",
    "version": 3
   },
   "file_extension": ".py",
   "mimetype": "text/x-python",
   "name": "python",
   "nbconvert_exporter": "python",
   "pygments_lexer": "ipython3",
   "version": "3.8.3"
  }
 },
 "nbformat": 4,
 "nbformat_minor": 4
}
